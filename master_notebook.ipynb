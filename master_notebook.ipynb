{
 "cells": [
  {
   "cell_type": "markdown",
   "id": "4ac9c511-ceb7-4a12-b2a0-414ac01e4304",
   "metadata": {},
   "source": [
    "# Team Ernst Engel Master Notebook\n",
    "In this notebook, we compile all of the finished products of code for this project."
   ]
  },
  {
   "cell_type": "code",
   "execution_count": null,
   "id": "0236b6ce-8090-4464-b30a-d407e67d0474",
   "metadata": {},
   "outputs": [],
   "source": []
  }
 ],
 "metadata": {
  "kernelspec": {
   "display_name": "Python 3 (ipykernel)",
   "language": "python",
   "name": "python3"
  },
  "language_info": {
   "codemirror_mode": {
    "name": "ipython",
    "version": 3
   },
   "file_extension": ".py",
   "mimetype": "text/x-python",
   "name": "python",
   "nbconvert_exporter": "python",
   "pygments_lexer": "ipython3",
   "version": "3.11.5"
  }
 },
 "nbformat": 4,
 "nbformat_minor": 5
}
