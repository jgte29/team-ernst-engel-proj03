{
 "cells": [
  {
   "cell_type": "markdown",
   "id": "efa95f59-3e93-46df-a6d0-cf26b9e46735",
   "metadata": {},
   "source": [
    "# Team Ernst Engel Food Demand Notebook\n",
    "In this notebook, we examine a system of demands for various food products, and examine heterogeneity in household consumption."
   ]
  },
  {
   "cell_type": "code",
   "execution_count": 1,
   "id": "3c5008a3-4bad-4393-85ab-25bc338a5243",
   "metadata": {
    "tags": []
   },
   "outputs": [],
   "source": [
    "import pandas as pd\n",
    "import numpy as np\n",
    "from cfe import Regression\n",
    "import warnings"
   ]
  },
  {
   "cell_type": "code",
   "execution_count": 2,
   "id": "12f1f508-2d80-4843-ba40-40143d7a4943",
   "metadata": {
    "tags": []
   },
   "outputs": [],
   "source": [
    "%run nutritional_adequacy.ipynb"
   ]
  },
  {
   "cell_type": "markdown",
   "id": "1a19e496-06b1-4466-9983-7b0395a595bf",
   "metadata": {},
   "source": [
    "## Data Processing"
   ]
  },
  {
   "cell_type": "code",
   "execution_count": 4,
   "id": "86eacf1e-81af-4043-8115-758778aef864",
   "metadata": {
    "tags": []
   },
   "outputs": [],
   "source": [
    "# food_nutrients, food_prices, hh_chars, expenditures, hhc_sub, fp_sub, food_cols, fp_sub_avgs = get_data(country, year_range)"
   ]
  },
  {
   "cell_type": "code",
   "execution_count": 6,
   "id": "aaf7a0df-022a-4757-b8d2-6772988d5eb0",
   "metadata": {
    "tags": []
   },
   "outputs": [],
   "source": [
    "# warnings.filterwarnings(\"ignore\")\n",
    "# x = expenditures\n",
    "# x.columns.name = 'j'\n",
    "# x = x.T.groupby('j').sum().T\n",
    "# x = x.replace(0,np.nan)\n",
    "\n",
    "# y = np.log(x.set_index(['i','t','m']))\n",
    "\n",
    "# p = fp_sub\n",
    "# p.columns.name = 'j'\n",
    "\n",
    "# d = hhc_sub.copy()\n",
    "# d.columns.name = 'k'\n",
    "# d.set_index(['i','t','m'],inplace=True)"
   ]
  },
  {
   "cell_type": "code",
   "execution_count": 10,
   "id": "81f32ee4-6eee-4501-8d97-03ffa51dcb06",
   "metadata": {
    "tags": []
   },
   "outputs": [],
   "source": [
    "def process_data(country, year):\n",
    "    food_nutrients, food_prices, hh_chars, expenditures, hhc_sub, fp_sub, food_cols, fp_sub_avgs = get_data(country, year)\n",
    "    warnings.filterwarnings(\"ignore\")\n",
    "    x = expenditures\n",
    "    x.columns.name = 'j'\n",
    "    x = x.T.groupby('j').sum().T\n",
    "    x = x.replace(0,np.nan)\n",
    "\n",
    "    y = np.log(x.set_index(['i','t','m']))\n",
    "\n",
    "    p = fp_sub\n",
    "    p.columns.name = 'j'\n",
    "\n",
    "    d = hhc_sub.copy()\n",
    "    d.columns.name = 'k'\n",
    "    d.set_index(['i','t','m'],inplace=True)\n",
    "    \n",
    "    y = y.stack()\n",
    "\n",
    "    d = d.stack()\n",
    "    \n",
    "    return x, y, p, d"
   ]
  },
  {
   "cell_type": "code",
   "execution_count": 12,
   "id": "25d7a8fb-faf6-460b-8030-9fd73d73d056",
   "metadata": {
    "tags": []
   },
   "outputs": [],
   "source": [
    "x, y, p, d = process_data(country, year_range)"
   ]
  },
  {
   "cell_type": "markdown",
   "id": "5f9f6842-d5a3-4f75-b96c-faed1957e1d0",
   "metadata": {},
   "source": [
    "## Estimation\n",
    "Recall the model put forth in lecture: <br>\n",
    "Let $y_{i}^j$ be log expenditures on food $j$ by household $i$ at a particular time.  We want to estimate a regression that takes the form\n",
    "$$\n",
    "      y^j_{i} = A^j(p) + \\gamma_j'd_i + \\beta_j w_i + \\zeta^j_i.\n",
    "$$"
   ]
  },
  {
   "cell_type": "code",
   "execution_count": 15,
   "id": "af1c8b97-d7d3-49d2-b5ad-ab9ca498f160",
   "metadata": {
    "tags": []
   },
   "outputs": [],
   "source": [
    "# result = Regression(y = y,d = d)"
   ]
  },
  {
   "cell_type": "code",
   "execution_count": 17,
   "id": "f978fc7f-f56e-4549-9a5b-291fb9e6d19c",
   "metadata": {
    "tags": []
   },
   "outputs": [],
   "source": [
    "# plt.figure(figsize=(9.25, 6))\n",
    "# plot_df = pd.DataFrame({'y' : y,'yhat' : result.get_predicted_log_expenditures()})\n",
    "\n",
    "# sns.scatterplot(data = plot_df, x = 'yhat', y = 'y', alpha = 0.2)\n",
    "\n",
    "# dummy_x = np.linspace(4, 12, 77)\n",
    "\n",
    "# ### Overlay y = x line\n",
    "# plt.plot(dummy_x, dummy_x, color='red', label = r'$y = \\hat{y}$')\n",
    "\n",
    "# plt.xlabel(r'Predicted Expenditures')\n",
    "# plt.ylabel(r'Real Expenditures')\n",
    "# plt.title('Real vs. Predicted Expenditures')\n",
    "# plt.legend()\n",
    "\n",
    "# plt.show()"
   ]
  },
  {
   "cell_type": "markdown",
   "id": "cb03c405-d083-4280-aa39-859d1f14952c",
   "metadata": {},
   "source": [
    "## Parameters"
   ]
  },
  {
   "cell_type": "markdown",
   "id": "ae59b99f-a618-43cd-af8e-de4bbc9ffe44",
   "metadata": {
    "tags": []
   },
   "source": [
    "### (Relative) Income Elasticity"
   ]
  },
  {
   "cell_type": "code",
   "execution_count": 24,
   "id": "927a2d9c-9f98-49f4-8c01-3f38a59129cc",
   "metadata": {
    "tags": []
   },
   "outputs": [],
   "source": [
    "# ax = result.graph_beta();\n",
    "# plt.title('Income Elasticity')\n",
    "# plt.show();"
   ]
  },
  {
   "cell_type": "markdown",
   "id": "0ccda957-bef0-4a49-b9c3-a404d12286f0",
   "metadata": {},
   "source": [
    "### Welfare"
   ]
  },
  {
   "cell_type": "code",
   "execution_count": 27,
   "id": "8eea0190-e89b-492f-8aca-4d050d1c7228",
   "metadata": {
    "tags": []
   },
   "outputs": [],
   "source": [
    "# plt.figure(figsize=(9.25, 6))\n",
    "# ax = result.get_w().plot.hist(bins = 100, density = True)\n",
    "# result.get_w().plot.kde(ax=ax)\n",
    "# plt.axvline(x = 0, color = 'black', linestyle = '--')\n",
    "# plt.ylabel(r'$p(w_{i})$')\n",
    "# plt.xlabel(r'$w_{i}$')\n",
    "# plt.title('Household Welfare Distribution')\n",
    "# plt.show();"
   ]
  },
  {
   "cell_type": "code",
   "execution_count": 29,
   "id": "9d1f8f85-dd5c-4532-84ef-be77fe7ed86f",
   "metadata": {
    "tags": []
   },
   "outputs": [],
   "source": [
    "def run_estimation(y, d):\n",
    "    result = Regression(y = y,d = d)\n",
    "    \n",
    "    ### Plots\n",
    "    plt.figure(figsize=(9.25, 6))\n",
    "    plot_df = pd.DataFrame({'y' : y,'yhat' : result.get_predicted_log_expenditures()})\n",
    "\n",
    "    sns.scatterplot(data = plot_df, x = 'yhat', y = 'y', alpha = 0.2)\n",
    "\n",
    "    dummy_x = np.linspace(4, 12, 77)\n",
    "\n",
    "    ### Overlay y = x line\n",
    "    plt.plot(dummy_x, dummy_x, color='red', label = r'$y = \\hat{y}$')\n",
    "\n",
    "    plt.xlabel(r'Predicted Expenditures')\n",
    "    plt.ylabel(r'Real Expenditures')\n",
    "    plt.title('Real vs. Predicted Expenditures')\n",
    "    plt.legend()\n",
    "    plt.show();\n",
    "    \n",
    "    ax = result.graph_beta();\n",
    "    plt.title('Income Elasticity')\n",
    "    plt.show();\n",
    "    \n",
    "    plt.figure(figsize=(9.25, 6))\n",
    "    ax = result.get_w().plot.hist(bins = 100, density = True)\n",
    "    result.get_w().plot.kde(ax=ax)\n",
    "    plt.axvline(x = 0, color = 'black', linestyle = '--')\n",
    "    plt.ylabel(r'$p(w_{i})$')\n",
    "    plt.xlabel(r'$w_{i}$')\n",
    "    plt.title('Household Welfare Distribution')\n",
    "    plt.show();\n",
    "    \n",
    "    return result"
   ]
  },
  {
   "cell_type": "markdown",
   "id": "527d1a68-9f90-4963-86bd-f9b715afd1a3",
   "metadata": {},
   "source": [
    "## Demand and Utility (Counterfactual Experiment)"
   ]
  },
  {
   "cell_type": "markdown",
   "id": "d94aa320-2c4a-4109-98e4-112c5010fc5b",
   "metadata": {},
   "source": [
    "### Budgets"
   ]
  },
  {
   "cell_type": "code",
   "execution_count": 37,
   "id": "e86968d1-c78b-46f3-bfc7-534abb47802d",
   "metadata": {
    "tags": []
   },
   "outputs": [],
   "source": [
    "# xhat = result.predicted_expenditures()\n",
    "\n",
    "# xbar = xhat.groupby(['i','t','m']).sum()\n",
    "\n",
    "# ### Reference budget\n",
    "# xref = xbar.quantile(0.5)  # 0.5 ==> median"
   ]
  },
  {
   "cell_type": "markdown",
   "id": "a3fc0c60-7b71-4827-9ca7-6509e0c209c1",
   "metadata": {},
   "source": [
    "### Reference Prices"
   ]
  },
  {
   "cell_type": "code",
   "execution_count": 158,
   "id": "e184c9ab-b557-4e0a-b594-61c0f977b5a3",
   "metadata": {
    "tags": []
   },
   "outputs": [],
   "source": [
    "# ### Prices per kilogram:\n",
    "# pbar = p.mean()\n",
    "# pbar = pbar[result.beta.index]\n",
    "\n",
    "def change_price(p0, p, j = 'Millet'):\n",
    "    \"\"\"\n",
    "    Change price of jth good to p0, holding other prices fixed.\n",
    "    \"\"\"\n",
    "    p = p.copy()\n",
    "    p.loc[j] = p0\n",
    "    return p"
   ]
  },
  {
   "cell_type": "code",
   "execution_count": 160,
   "id": "f5799acc-bd7f-4134-bceb-d36919bce713",
   "metadata": {
    "tags": []
   },
   "outputs": [],
   "source": [
    "def plot_demands(food_product, result, p):\n",
    "    xhat = result.predicted_expenditures()\n",
    "\n",
    "    xbar = xhat.groupby(['i','t','m']).sum()\n",
    "\n",
    "    ### Reference budget\n",
    "    xref = xbar.quantile(0.5)  # 0.5 ==> median\n",
    "    \n",
    "    ### Prices per kilogram:\n",
    "    pbar = p.mean()\n",
    "    pbar = pbar[result.beta.index]\n",
    "    \n",
    "    # Vary prices from 50% to 200% of reference.\n",
    "    scale = np.linspace(.5,2,20)\n",
    "\n",
    "    # Demandfor household at median budget\n",
    "    plt.plot([result.demands(xref, change_price(pbar[food_product] * s, pbar, food_product))[food_product] for s in scale], \n",
    "             scale, label = 'Median')\n",
    "\n",
    "    # Demand for household at 25% percentile\n",
    "    plt.plot([result.demands(xbar.quantile(0.25), change_price(pbar[food_product] * s, pbar, food_product))[food_product] for s in scale], \n",
    "             scale, label = '25th Percentile')\n",
    "\n",
    "    # Demand for household at 75% percentile\n",
    "    plt.plot([result.demands(xbar.quantile(0.75), change_price(pbar[food_product] * s, pbar, food_product))[food_product] for s in scale], \n",
    "             scale, label = '75th Percentile')\n",
    "\n",
    "    plt.title(f\"Demand of {food_product}\")\n",
    "    plt.ylabel(f\"Price (relative to base of {pbar[food_product]:.2f})\")\n",
    "    plt.xlabel(f\"Quantity\")\n",
    "    plt.legend()\n",
    "    plt.show();"
   ]
  },
  {
   "cell_type": "code",
   "execution_count": 152,
   "id": "9339a8bb-b4d2-429c-a59e-5211dfc356c2",
   "metadata": {
    "tags": []
   },
   "outputs": [],
   "source": [
    "# plot_demands(food_product, result)"
   ]
  },
  {
   "cell_type": "markdown",
   "id": "aa69a81b-164c-4f48-b933-87efeb71c33c",
   "metadata": {},
   "source": [
    "### Engel Curves"
   ]
  },
  {
   "cell_type": "code",
   "execution_count": 154,
   "id": "8475e087-de31-45bf-94c1-cba5198bcbde",
   "metadata": {
    "tags": []
   },
   "outputs": [],
   "source": [
    "# desired_foods = ['Beans', 'Bread', 'Millet']\n",
    "# fig,ax = plt.subplots()\n",
    "\n",
    "# # Vary prices from 50% to 200% of reference.\n",
    "# scale = np.linspace(.5,2,20)\n",
    "# # ax.plot(np.log(scale * xref),[(result.expenditures(s * xref, pbar)/(s * xref)).loc[desired_foods] for s in scale])\n",
    "\n",
    "# ax.plot(np.log(scale * xref),[result.expenditures(s * xref, pbar)/(s * xref) for s in scale])\n",
    "\n",
    "# ax.set_xlabel(f'log budget (relative to base of {xref:.0f}')\n",
    "# ax.set_ylabel(f'Expenditure share')\n",
    "# ax.set_title('Engel Curves')\n",
    "# plt.show();"
   ]
  },
  {
   "cell_type": "code",
   "execution_count": 143,
   "id": "45027cc6-cf03-4a22-ab9a-07f644a80ebf",
   "metadata": {
    "tags": []
   },
   "outputs": [],
   "source": [
    "def plot_engel_curve(xref, result, p, desired_foods = ['all']):\n",
    "    fig,ax = plt.subplots()\n",
    "    \n",
    "    xhat = result.predicted_expenditures()\n",
    "\n",
    "    xbar = xhat.groupby(['i','t','m']).sum()\n",
    "\n",
    "    ### Reference budget\n",
    "    xref = xbar.quantile(0.5)  # 0.5 ==> median\n",
    "    \n",
    "    ### Prices per kilogram:\n",
    "    pbar = p.mean()\n",
    "    pbar = pbar[result.beta.index]\n",
    "\n",
    "    # Vary prices from 50% to 200% of reference.\n",
    "    scale = np.linspace(.5,2,20)\n",
    "    try:\n",
    "        ax.plot(np.log(scale * xref),\n",
    "                [(result.expenditures(s * xref, pbar)/(s * xref)).loc[desired_foods] for s in scale])\n",
    "        \n",
    "    except:\n",
    "        ax.plot(np.log(scale * xref),[result.expenditures(s * xref, pbar)/(s * xref) for s in scale])\n",
    "\n",
    "    ax.set_xlabel(f'log budget (relative to base of {xref:.0f})')\n",
    "    ax.set_ylabel(f'Expenditure Share')\n",
    "    ax.set_title('Engel Curves')\n",
    "    plt.show();  "
   ]
  },
  {
   "cell_type": "code",
   "execution_count": 156,
   "id": "e316a107-5c03-462f-9910-a09b961b4573",
   "metadata": {
    "tags": []
   },
   "outputs": [],
   "source": [
    "# plot_engel_curve(xref)"
   ]
  },
  {
   "cell_type": "markdown",
   "id": "d0552e04-dc7b-494b-bacf-6385afdd52b0",
   "metadata": {},
   "source": [
    "### Indirect Utility"
   ]
  },
  {
   "cell_type": "code",
   "execution_count": 178,
   "id": "c3ba588f-e4e2-4e82-bab6-02f5c0d88093",
   "metadata": {
    "tags": []
   },
   "outputs": [],
   "source": [
    "# fig,ax = plt.subplots()\n",
    "\n",
    "# scale = np.linspace(.5,2,20)\n",
    "# ax.plot(scale*xref,[result.indirect_utility(s*xref,pbar) for s in scale])\n",
    "# ax.set_xlabel(f'Indirect Utility (Budget relative to base of {xref:.0f}')\n",
    "# ax.set_ylabel(f'Utility')\n",
    "# ax.set_title('Indirect Utility Function')\n",
    "# plt.show();"
   ]
  },
  {
   "cell_type": "code",
   "execution_count": 191,
   "id": "0aee2f76-f711-4528-aef4-87de8f7eea55",
   "metadata": {
    "tags": []
   },
   "outputs": [],
   "source": [
    "def plot_indirect_utility(result, p):\n",
    "    \n",
    "    xhat = result.predicted_expenditures()\n",
    "\n",
    "    xbar = xhat.groupby(['i','t','m']).sum()\n",
    "\n",
    "    ### Reference budget\n",
    "    xref = xbar.quantile(0.5)  # 0.5 ==> median\n",
    "    \n",
    "    ### Prices per kilogram:\n",
    "    pbar = p.mean()\n",
    "    pbar = pbar[result.beta.index]\n",
    "\n",
    "    fig,ax = plt.subplots(figsize=(9.25, 6))\n",
    "\n",
    "    scale = np.linspace(.5,2,20)\n",
    "    ax.plot(scale*xref,[result.indirect_utility(s*xref,pbar) for s in scale])\n",
    "    ax.set_xlabel(f'Indirect Utility (Budget relative to base of {xref:.0f}')\n",
    "    ax.set_ylabel(f'Utility')\n",
    "    ax.set_title('Indirect Utility Function')\n",
    "    plt.show();"
   ]
  },
  {
   "cell_type": "markdown",
   "id": "821fa1b7-7aa9-4960-b068-e1411e356b7c",
   "metadata": {},
   "source": [
    "## Interactivity Development"
   ]
  },
  {
   "cell_type": "code",
   "execution_count": 168,
   "id": "72a4b89a-47da-43f5-b34d-8e0e77f02d29",
   "metadata": {
    "tags": []
   },
   "outputs": [],
   "source": [
    "def estimate_demand_wrapper(country, year):\n",
    "    x, y, p, d = process_data(country, year_range)\n",
    "    result = run_estimation(y, d)\n",
    "    plot_indirect_utility(result, p)\n",
    "    return result, p"
   ]
  },
  {
   "cell_type": "code",
   "execution_count": 196,
   "id": "4fe41d50-b61d-48df-bcc1-7cd34d734b3d",
   "metadata": {
    "tags": []
   },
   "outputs": [],
   "source": [
    "def plot_demands_interactive(result, p):\n",
    "    widget = interactive(plot_demands,\n",
    "                         food_product = result.beta.index,\n",
    "                         result = widgets.fixed(result),\n",
    "                        p = widgets.fixed(p))\n",
    "    display(widget)"
   ]
  }
 ],
 "metadata": {
  "kernelspec": {
   "display_name": "Python 3 (ipykernel)",
   "language": "python",
   "name": "python3"
  },
  "language_info": {
   "codemirror_mode": {
    "name": "ipython",
    "version": 3
   },
   "file_extension": ".py",
   "mimetype": "text/x-python",
   "name": "python",
   "nbconvert_exporter": "python",
   "pygments_lexer": "ipython3",
   "version": "3.11.5"
  }
 },
 "nbformat": 4,
 "nbformat_minor": 5
}
