{
 "cells": [
  {
   "cell_type": "markdown",
   "id": "f43ae03a-aa9c-49a1-b0eb-8a57a1190230",
   "metadata": {},
   "source": [
    "# Team Ernst Engel Nutritional Content Notebook\n",
    "In this notebook, we obtain the nutritional contents for the foods of interest for our project."
   ]
  },
  {
   "cell_type": "code",
   "execution_count": 13,
   "id": "f82ab2a4-db1a-4951-91f4-349014ec7d7b",
   "metadata": {
    "tags": []
   },
   "outputs": [],
   "source": [
    "import pandas as pd\n",
    "import numpy as np\n",
    "import seaborn as sns\n",
    "import matplotlib.pyplot as plt\n",
    "from ipywidgets import interact, interactive, widgets\n",
    "import fooddatacentral as fdc\n",
    "\n",
    "# This is a local file unique to Jordan's computer\n",
    "# It contains his USDA FoodData Central API Key\n",
    "# Do Not Uncomment or it will cause an error\n",
    "import config"
   ]
  },
  {
   "cell_type": "code",
   "execution_count": 48,
   "id": "c8ef008e-3d2f-401a-ae62-bf55b10d9669",
   "metadata": {
    "tags": []
   },
   "outputs": [],
   "source": [
    "foods_arr = np.array(pd.read_csv('./data/foods_oi.csv').iloc[:10, 0])\n",
    "apikey = config.API_KEY"
   ]
  },
  {
   "cell_type": "code",
   "execution_count": 52,
   "id": "dc426164-62d1-49e8-bbd1-bfaf727f3165",
   "metadata": {
    "tags": []
   },
   "outputs": [],
   "source": [
    "D = {}\n",
    "for food in foods_arr:\n",
    "    try:\n",
    "        FDC = df.loc[df.index==food,:].FDC.values[0]\n",
    "        D[food] = fdc.nutrients(apikey,FDC).Quantity\n",
    "        print(food)\n",
    "    except:\n",
    "        pass\n",
    "\n",
    "D = pd.DataFrame(D,dtype=float)"
   ]
  },
  {
   "cell_type": "code",
   "execution_count": 56,
   "id": "ead49871-1fce-4d57-8e13-8c8e8b255221",
   "metadata": {
    "tags": []
   },
   "outputs": [
    {
     "data": {
      "text/plain": [
       "array(['Avocado', 'Beans (dry)', 'Beans (fresh)', 'Beef',\n",
       "       'Beef (roasted)', 'Beef Liver', 'Beef Offal', 'Biscuits', 'Bogoya',\n",
       "       'Bongo'], dtype=object)"
      ]
     },
     "execution_count": 56,
     "metadata": {},
     "output_type": "execute_result"
    }
   ],
   "source": [
    "foods_arr"
   ]
  },
  {
   "cell_type": "code",
   "execution_count": 67,
   "id": "c162242c-2adb-4705-a942-2c397a39bc75",
   "metadata": {
    "tags": []
   },
   "outputs": [
    {
     "data": {
      "text/html": [
       "<div>\n",
       "<style scoped>\n",
       "    .dataframe tbody tr th:only-of-type {\n",
       "        vertical-align: middle;\n",
       "    }\n",
       "\n",
       "    .dataframe tbody tr th {\n",
       "        vertical-align: top;\n",
       "    }\n",
       "\n",
       "    .dataframe thead th {\n",
       "        text-align: right;\n",
       "    }\n",
       "</style>\n",
       "<table border=\"1\" class=\"dataframe\">\n",
       "  <thead>\n",
       "    <tr style=\"text-align: right;\">\n",
       "      <th></th>\n",
       "      <th>Quantity</th>\n",
       "      <th>Units</th>\n",
       "    </tr>\n",
       "  </thead>\n",
       "  <tbody>\n",
       "    <tr>\n",
       "      <th>Sodium, Na</th>\n",
       "      <td>40.00</td>\n",
       "      <td>mg</td>\n",
       "    </tr>\n",
       "    <tr>\n",
       "      <th>Vitamin D (D2 + D3), International Units</th>\n",
       "      <td>42.00</td>\n",
       "      <td>IU</td>\n",
       "    </tr>\n",
       "    <tr>\n",
       "      <th>Protein</th>\n",
       "      <td>3.33</td>\n",
       "      <td>g</td>\n",
       "    </tr>\n",
       "    <tr>\n",
       "      <th>Total Sugars</th>\n",
       "      <td>5.00</td>\n",
       "      <td>g</td>\n",
       "    </tr>\n",
       "    <tr>\n",
       "      <th>Energy</th>\n",
       "      <td>54.00</td>\n",
       "      <td>kcal</td>\n",
       "    </tr>\n",
       "    <tr>\n",
       "      <th>Vitamin A, IU</th>\n",
       "      <td>2500.00</td>\n",
       "      <td>IU</td>\n",
       "    </tr>\n",
       "    <tr>\n",
       "      <th>Cholesterol</th>\n",
       "      <td>8.00</td>\n",
       "      <td>mg</td>\n",
       "    </tr>\n",
       "    <tr>\n",
       "      <th>Fatty acids, total saturated</th>\n",
       "      <td>1.04</td>\n",
       "      <td>g</td>\n",
       "    </tr>\n",
       "    <tr>\n",
       "      <th>Fatty acids, total trans</th>\n",
       "      <td>0.00</td>\n",
       "      <td>g</td>\n",
       "    </tr>\n",
       "    <tr>\n",
       "      <th>Fiber, total dietary</th>\n",
       "      <td>0.00</td>\n",
       "      <td>g</td>\n",
       "    </tr>\n",
       "    <tr>\n",
       "      <th>Potassium, K</th>\n",
       "      <td>162.00</td>\n",
       "      <td>mg</td>\n",
       "    </tr>\n",
       "    <tr>\n",
       "      <th>Calcium, Ca</th>\n",
       "      <td>129.00</td>\n",
       "      <td>mg</td>\n",
       "    </tr>\n",
       "    <tr>\n",
       "      <th>Iron, Fe</th>\n",
       "      <td>0.00</td>\n",
       "      <td>mg</td>\n",
       "    </tr>\n",
       "    <tr>\n",
       "      <th>Carbohydrate, by difference</th>\n",
       "      <td>5.00</td>\n",
       "      <td>g</td>\n",
       "    </tr>\n",
       "    <tr>\n",
       "      <th>Total lipid (fat)</th>\n",
       "      <td>2.08</td>\n",
       "      <td>g</td>\n",
       "    </tr>\n",
       "  </tbody>\n",
       "</table>\n",
       "</div>"
      ],
      "text/plain": [
       "                                          Quantity Units\n",
       "Sodium, Na                                   40.00    mg\n",
       "Vitamin D (D2 + D3), International Units     42.00    IU\n",
       "Protein                                       3.33     g\n",
       "Total Sugars                                  5.00     g\n",
       "Energy                                       54.00  kcal\n",
       "Vitamin A, IU                              2500.00    IU\n",
       "Cholesterol                                   8.00    mg\n",
       "Fatty acids, total saturated                  1.04     g\n",
       "Fatty acids, total trans                      0.00     g\n",
       "Fiber, total dietary                          0.00     g\n",
       "Potassium, K                                162.00    mg\n",
       "Calcium, Ca                                 129.00    mg\n",
       "Iron, Fe                                      0.00    mg\n",
       "Carbohydrate, by difference                   5.00     g\n",
       "Total lipid (fat)                             2.08     g"
      ]
     },
     "execution_count": 67,
     "metadata": {},
     "output_type": "execute_result"
    }
   ],
   "source": [
    "fdc.nutrients(apikey, '2485214')"
   ]
  },
  {
   "cell_type": "code",
   "execution_count": null,
   "id": "b8815ae5-4b4b-4e2c-8b4c-3566fd2db016",
   "metadata": {},
   "outputs": [],
   "source": []
  }
 ],
 "metadata": {
  "kernelspec": {
   "display_name": "Python 3 (ipykernel)",
   "language": "python",
   "name": "python3"
  },
  "language_info": {
   "codemirror_mode": {
    "name": "ipython",
    "version": 3
   },
   "file_extension": ".py",
   "mimetype": "text/x-python",
   "name": "python",
   "nbconvert_exporter": "python",
   "pygments_lexer": "ipython3",
   "version": "3.11.5"
  }
 },
 "nbformat": 4,
 "nbformat_minor": 5
}
